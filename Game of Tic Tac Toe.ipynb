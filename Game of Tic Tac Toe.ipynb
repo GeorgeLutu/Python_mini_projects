{
 "cells": [
  {
   "cell_type": "markdown",
   "id": "0480bd0b",
   "metadata": {},
   "source": [
    "# Tic Tac Toe"
   ]
  },
  {
   "cell_type": "code",
   "execution_count": 1,
   "id": "07149f91",
   "metadata": {},
   "outputs": [],
   "source": [
    "from IPython.display import clear_output\n",
    "import random"
   ]
  },
  {
   "cell_type": "code",
   "execution_count": 2,
   "id": "20641b2f",
   "metadata": {},
   "outputs": [],
   "source": [
    "#Making the board\n",
    "\n",
    "def display_board(board):\n",
    "    clear_output()\n",
    "    print(board[7]+'|'+board[8]+'|'+board[9])\n",
    "    print(board[4]+'|'+board[5]+'|'+board[6])\n",
    "    print(board[1]+'|'+board[2]+'|'+board[3])"
   ]
  },
  {
   "cell_type": "code",
   "execution_count": 3,
   "id": "ba2440f5",
   "metadata": {},
   "outputs": [],
   "source": [
    "#Player Input\n",
    "\n",
    "def player_input():\n",
    "    \n",
    "    marker=''\n",
    "    \n",
    "    while marker != 'X' and marker != 'O':\n",
    "        marker = input('Player 1, please choose X or O: ')\n",
    "        \n",
    "    player1 = marker\n",
    "    \n",
    "    if player1 == 'X':\n",
    "        player2 = 'O'\n",
    "    else:\n",
    "        player2 = 'X'\n",
    "        \n",
    "    print(f'Player 1 is {player1} and Player 2 is {player2}')\n",
    "    return (player1,player2)"
   ]
  },
  {
   "cell_type": "code",
   "execution_count": 4,
   "id": "777410ee",
   "metadata": {},
   "outputs": [],
   "source": [
    "#Place X and O\n",
    "\n",
    "def place_marker(board, marker, position):\n",
    "    \n",
    "    for place in board:\n",
    "        board[position] = marker\n",
    "        \n",
    "    return board"
   ]
  },
  {
   "cell_type": "code",
   "execution_count": 5,
   "id": "3b26bb18",
   "metadata": {},
   "outputs": [],
   "source": [
    "#Win check\n",
    "\n",
    "def win_check(board,mark):\n",
    "    \n",
    "    if board[1] == board[2] == board[3] == mark:\n",
    "        return True\n",
    "    elif board[4] == board[5] == board[6] == mark:\n",
    "        return True\n",
    "    elif board[7] == board[8] == board[9] ==mark:\n",
    "        return True\n",
    "    elif board[1] == board[4] == board[7] == mark:\n",
    "        return True\n",
    "    elif board[2] == board[5] == board[8] == mark:\n",
    "        return True\n",
    "    elif board[3] == board[6] == board[9] == mark:\n",
    "        return True\n",
    "    elif board[7] == board[5] == board[3] == mark:\n",
    "        return True\n",
    "    elif board[9] == board[5] == board[1] == mark:\n",
    "        return True\n",
    "    else:\n",
    "        return False"
   ]
  },
  {
   "cell_type": "code",
   "execution_count": 6,
   "id": "b8bf95fc",
   "metadata": {},
   "outputs": [],
   "source": [
    "#Who goes first\n",
    "\n",
    "def choose_first():\n",
    "    x=random.randint(1,2)\n",
    "    if x==1:\n",
    "        print(\"By random chance: Player 1 goes first!\")\n",
    "        return 0\n",
    "    else:\n",
    "        print(\"By random chance: Player 2 goes first!\")\n",
    "        return 1"
   ]
  },
  {
   "cell_type": "code",
   "execution_count": 7,
   "id": "9b106744",
   "metadata": {},
   "outputs": [],
   "source": [
    "#Unused space check\n",
    "\n",
    "def space_check(board, position):\n",
    "    return board[position] == ' '\n",
    "    \n",
    "    pass"
   ]
  },
  {
   "cell_type": "code",
   "execution_count": 8,
   "id": "cde0540d",
   "metadata": {},
   "outputs": [],
   "source": [
    "#Full board check\n",
    "\n",
    "def full_board_check(board):\n",
    "    x=0\n",
    "    for item in board:\n",
    "        if item == 'X' or item == 'O':\n",
    "            x=x+1\n",
    "        else:\n",
    "            pass\n",
    "    return x == 9"
   ]
  },
  {
   "cell_type": "code",
   "execution_count": 9,
   "id": "bba3dd7a",
   "metadata": {},
   "outputs": [],
   "source": [
    "#Next position\n",
    "\n",
    "def player_choice(board):\n",
    "    choice2=''\n",
    "    within_range = False\n",
    "    \n",
    "    while choice2.isdigit() == False or within_range == False or board[int(choice2)] != ' ':\n",
    "        choice2 = input(\"What's your next position?(1-9): \")\n",
    "        \n",
    "        if board[int(choice2)] != ' ':\n",
    "            print(\"Sorry that position is occupied.\")\n",
    "        \n",
    "        if choice2.isdigit() == False:\n",
    "            print(\"Sorry that is not a valid position.\")\n",
    "            \n",
    "        if choice2.isdigit() == True:\n",
    "            if board[int(choice2)] == ' ':\n",
    "                if int(choice2) in range(1,10):\n",
    "                    within_range = True\n",
    "                else:\n",
    "                    within_range = False\n",
    "    return int(choice2)\n",
    "    pass"
   ]
  },
  {
   "cell_type": "code",
   "execution_count": 10,
   "id": "8dfd179c",
   "metadata": {},
   "outputs": [],
   "source": [
    "#Replay possibility\n",
    "\n",
    "def replay():\n",
    "    choice3= 'wrong'\n",
    "    \n",
    "    while choice3 not in ['Y','N']:\n",
    "        choice3 = input(\"Do you want to keep playing? (Y or N): \")\n",
    "        \n",
    "        if choice3 not in ['Y','N']:\n",
    "            clear_output()\n",
    "            print(\"Sorry, but i dont undertand. Make sure to pick Y or N\")\n",
    "    \n",
    "    if choice3 == 'Y':\n",
    "        return True\n",
    "    else:\n",
    "        return False"
   ]
  },
  {
   "cell_type": "code",
   "execution_count": 12,
   "id": "d6c2462f",
   "metadata": {},
   "outputs": [
    {
     "name": "stdout",
     "output_type": "stream",
     "text": [
      "O| |X\n",
      "X|O| \n",
      "O|X|O\n",
      "Do you want to keep playing? (Y or N): N\n"
     ]
    }
   ],
   "source": [
    "#Actual game\n",
    "\n",
    "print('Welcome to Tic Tac Toe!')\n",
    "\n",
    "board=['#',' ',' ',' ',' ',' ',' ',' ',' ',' ']\n",
    "mark=''\n",
    "\n",
    "game_on = True\n",
    "\n",
    "while game_on:\n",
    "    \n",
    "    display_board(board)\n",
    "    \n",
    "    marker1,marker2 = player_input()\n",
    "    \n",
    "    mark = (marker1 or marker2)\n",
    "    \n",
    "    ran = choose_first()\n",
    "    \n",
    "    if ran == 0:\n",
    "        mark11 = marker1\n",
    "        mark12 = marker2\n",
    "    elif ran == 1:\n",
    "        mark11 = marker2\n",
    "        mark12 = marker1\n",
    "    \n",
    "    pass\n",
    "    \n",
    "    \n",
    "    while full_board_check(board) == False and win_check(board,mark) == False:\n",
    "        \n",
    "        mark = mark11\n",
    "        \n",
    "        choice1 = player_choice(board)\n",
    "    \n",
    "        board = place_marker(board,mark,choice1)\n",
    "        \n",
    "        display_board(board)\n",
    "        \n",
    "        if full_board_check(board) == True or win_check(board,mark) == True:\n",
    "            break\n",
    "            \n",
    "        mark = mark12\n",
    "        \n",
    "        choice1 = player_choice(board)\n",
    "    \n",
    "        board = place_marker(board,mark,choice1)\n",
    "        \n",
    "        display_board(board)\n",
    "        \n",
    "        pass\n",
    "        \n",
    "    if replay() == True:\n",
    "        game_on=True\n",
    "        board=['#',' ',' ',' ',' ',' ',' ',' ',' ',' ']\n",
    "    else:\n",
    "        game_on=False\n",
    "        "
   ]
  },
  {
   "cell_type": "markdown",
   "id": "e56021f1",
   "metadata": {},
   "source": [
    "# The end"
   ]
  },
  {
   "cell_type": "code",
   "execution_count": null,
   "id": "4e6555b6",
   "metadata": {},
   "outputs": [],
   "source": []
  }
 ],
 "metadata": {
  "kernelspec": {
   "display_name": "Python 3",
   "language": "python",
   "name": "python3"
  },
  "language_info": {
   "codemirror_mode": {
    "name": "ipython",
    "version": 3
   },
   "file_extension": ".py",
   "mimetype": "text/x-python",
   "name": "python",
   "nbconvert_exporter": "python",
   "pygments_lexer": "ipython3",
   "version": "3.8.8"
  }
 },
 "nbformat": 4,
 "nbformat_minor": 5
}
